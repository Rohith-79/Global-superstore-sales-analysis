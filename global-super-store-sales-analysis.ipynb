{
 "cells": [
  {
   "cell_type": "markdown",
   "id": "7a891201",
   "metadata": {
    "papermill": {
     "duration": 0.008258,
     "end_time": "2024-10-09T08:14:25.958527",
     "exception": false,
     "start_time": "2024-10-09T08:14:25.950269",
     "status": "completed"
    },
    "tags": []
   },
   "source": [
    "># Sales Performance Analysis and Demand Forecasting in Global Superstore"
   ]
  },
  {
   "cell_type": "markdown",
   "id": "6f6ce35f",
   "metadata": {
    "papermill": {
     "duration": 0.007159,
     "end_time": "2024-10-09T08:14:25.973314",
     "exception": false,
     "start_time": "2024-10-09T08:14:25.966155",
     "status": "completed"
    },
    "tags": []
   },
   "source": [
    " **IMPORTING THE REQUIRED LIBRARIES**\n"
   ]
  },
  {
   "cell_type": "code",
   "execution_count": 1,
   "id": "23a4cced",
   "metadata": {
    "papermill": {
     "duration": 2.558022,
     "end_time": "2024-10-09T08:14:28.544351",
     "exception": false,
     "start_time": "2024-10-09T08:14:25.986329",
     "status": "completed"
    },
    "tags": []
   },
   "outputs": [],
   "source": [
    "import numpy as np \n",
    "import pandas as pd\n",
    "import matplotlib\n",
    "import matplotlib.pyplot as plt\n",
    "import seaborn as sns\n",
    "\n",
    "import warnings\n",
    "warnings.filterwarnings('ignore')"
   ]
  },
  {
   "cell_type": "markdown",
   "id": "f22ba9ac",
   "metadata": {
    "papermill": {
     "duration": 0.007664,
     "end_time": "2024-10-09T08:14:28.559720",
     "exception": false,
     "start_time": "2024-10-09T08:14:28.552056",
     "status": "completed"
    },
    "tags": []
   },
   "source": [
    "# DATA PREPROCESSING"
   ]
  },
  {
   "cell_type": "markdown",
   "id": "6ccc51bb",
   "metadata": {
    "papermill": {
     "duration": 0.007258,
     "end_time": "2024-10-09T08:14:28.574516",
     "exception": false,
     "start_time": "2024-10-09T08:14:28.567258",
     "status": "completed"
    },
    "tags": []
   },
   "source": [
    "**DATA COLLECTION**"
   ]
  },
  {
   "cell_type": "code",
   "execution_count": 2,
   "id": "8a8ccebb",
   "metadata": {
    "papermill": {
     "duration": 0.697274,
     "end_time": "2024-10-09T08:14:29.279191",
     "exception": false,
     "start_time": "2024-10-09T08:14:28.581917",
     "status": "completed"
    },
    "tags": []
   },
   "outputs": [
    {
     "data": {
      "text/html": [
       "<div>\n",
       "<style scoped>\n",
       "    .dataframe tbody tr th:only-of-type {\n",
       "        vertical-align: middle;\n",
       "    }\n",
       "\n",
       "    .dataframe tbody tr th {\n",
       "        vertical-align: top;\n",
       "    }\n",
       "\n",
       "    .dataframe thead th {\n",
       "        text-align: right;\n",
       "    }\n",
       "</style>\n",
       "<table border=\"1\" class=\"dataframe\">\n",
       "  <thead>\n",
       "    <tr style=\"text-align: right;\">\n",
       "      <th></th>\n",
       "      <th>Product.Name</th>\n",
       "      <th>Category</th>\n",
       "      <th>Sub.Category</th>\n",
       "      <th>Country</th>\n",
       "      <th>State</th>\n",
       "      <th>Customer.ID</th>\n",
       "      <th>Customer.Name</th>\n",
       "      <th>Order.ID</th>\n",
       "      <th>Order.Date</th>\n",
       "      <th>Region</th>\n",
       "      <th>Ship.Date</th>\n",
       "      <th>Ship.Mode</th>\n",
       "      <th>Shipping.Cost</th>\n",
       "      <th>Discount</th>\n",
       "      <th>Profit</th>\n",
       "      <th>Quantity</th>\n",
       "      <th>Sales</th>\n",
       "      <th>Segment</th>\n",
       "    </tr>\n",
       "  </thead>\n",
       "  <tbody>\n",
       "    <tr>\n",
       "      <th>0</th>\n",
       "      <td>Xerox 225</td>\n",
       "      <td>Office Supplies</td>\n",
       "      <td>Paper</td>\n",
       "      <td>United States</td>\n",
       "      <td>California</td>\n",
       "      <td>LS-172304</td>\n",
       "      <td>Lycoris Saunders</td>\n",
       "      <td>CA-2011-130813</td>\n",
       "      <td>2011-01-07 00:00:00.000</td>\n",
       "      <td>West</td>\n",
       "      <td>2011-01-09 00:00:00.000</td>\n",
       "      <td>Second Class</td>\n",
       "      <td>4.37</td>\n",
       "      <td>0.0</td>\n",
       "      <td>9.3312</td>\n",
       "      <td>3</td>\n",
       "      <td>19</td>\n",
       "      <td>Consumer</td>\n",
       "    </tr>\n",
       "    <tr>\n",
       "      <th>1</th>\n",
       "      <td>Wirebound Service Call Books, 5 1/2\" x 4\"</td>\n",
       "      <td>Office Supplies</td>\n",
       "      <td>Paper</td>\n",
       "      <td>United States</td>\n",
       "      <td>California</td>\n",
       "      <td>MV-174854</td>\n",
       "      <td>Mark Van Huff</td>\n",
       "      <td>CA-2011-148614</td>\n",
       "      <td>2011-01-21 00:00:00.000</td>\n",
       "      <td>West</td>\n",
       "      <td>2011-01-26 00:00:00.000</td>\n",
       "      <td>Standard Class</td>\n",
       "      <td>0.94</td>\n",
       "      <td>0.0</td>\n",
       "      <td>9.2928</td>\n",
       "      <td>2</td>\n",
       "      <td>19</td>\n",
       "      <td>Consumer</td>\n",
       "    </tr>\n",
       "    <tr>\n",
       "      <th>2</th>\n",
       "      <td>Adams Phone Message Book, Professional, 400 Me...</td>\n",
       "      <td>Office Supplies</td>\n",
       "      <td>Paper</td>\n",
       "      <td>United States</td>\n",
       "      <td>California</td>\n",
       "      <td>CS-121304</td>\n",
       "      <td>Chad Sievert</td>\n",
       "      <td>CA-2011-118962</td>\n",
       "      <td>2011-08-05 00:00:00.000</td>\n",
       "      <td>West</td>\n",
       "      <td>2011-08-09 00:00:00.000</td>\n",
       "      <td>Standard Class</td>\n",
       "      <td>1.81</td>\n",
       "      <td>0.0</td>\n",
       "      <td>9.8418</td>\n",
       "      <td>3</td>\n",
       "      <td>21</td>\n",
       "      <td>Consumer</td>\n",
       "    </tr>\n",
       "    <tr>\n",
       "      <th>3</th>\n",
       "      <td>Xerox 1913</td>\n",
       "      <td>Office Supplies</td>\n",
       "      <td>Paper</td>\n",
       "      <td>United States</td>\n",
       "      <td>California</td>\n",
       "      <td>CS-121304</td>\n",
       "      <td>Chad Sievert</td>\n",
       "      <td>CA-2011-118962</td>\n",
       "      <td>2011-08-05 00:00:00.000</td>\n",
       "      <td>West</td>\n",
       "      <td>2011-08-09 00:00:00.000</td>\n",
       "      <td>Standard Class</td>\n",
       "      <td>4.59</td>\n",
       "      <td>0.0</td>\n",
       "      <td>53.2608</td>\n",
       "      <td>2</td>\n",
       "      <td>111</td>\n",
       "      <td>Consumer</td>\n",
       "    </tr>\n",
       "    <tr>\n",
       "      <th>4</th>\n",
       "      <td>Xerox 223</td>\n",
       "      <td>Office Supplies</td>\n",
       "      <td>Paper</td>\n",
       "      <td>United States</td>\n",
       "      <td>California</td>\n",
       "      <td>AP-109154</td>\n",
       "      <td>Arthur Prichep</td>\n",
       "      <td>CA-2011-146969</td>\n",
       "      <td>2011-09-29 00:00:00.000</td>\n",
       "      <td>West</td>\n",
       "      <td>2011-10-03 00:00:00.000</td>\n",
       "      <td>Standard Class</td>\n",
       "      <td>1.32</td>\n",
       "      <td>0.0</td>\n",
       "      <td>3.1104</td>\n",
       "      <td>1</td>\n",
       "      <td>6</td>\n",
       "      <td>Consumer</td>\n",
       "    </tr>\n",
       "  </tbody>\n",
       "</table>\n",
       "</div>"
      ],
      "text/plain": [
       "                                        Product.Name         Category  \\\n",
       "0                                          Xerox 225  Office Supplies   \n",
       "1          Wirebound Service Call Books, 5 1/2\" x 4\"  Office Supplies   \n",
       "2  Adams Phone Message Book, Professional, 400 Me...  Office Supplies   \n",
       "3                                         Xerox 1913  Office Supplies   \n",
       "4                                          Xerox 223  Office Supplies   \n",
       "\n",
       "  Sub.Category        Country       State Customer.ID     Customer.Name  \\\n",
       "0        Paper  United States  California   LS-172304  Lycoris Saunders   \n",
       "1        Paper  United States  California   MV-174854     Mark Van Huff   \n",
       "2        Paper  United States  California   CS-121304      Chad Sievert   \n",
       "3        Paper  United States  California   CS-121304      Chad Sievert   \n",
       "4        Paper  United States  California   AP-109154    Arthur Prichep   \n",
       "\n",
       "         Order.ID               Order.Date Region                Ship.Date  \\\n",
       "0  CA-2011-130813  2011-01-07 00:00:00.000   West  2011-01-09 00:00:00.000   \n",
       "1  CA-2011-148614  2011-01-21 00:00:00.000   West  2011-01-26 00:00:00.000   \n",
       "2  CA-2011-118962  2011-08-05 00:00:00.000   West  2011-08-09 00:00:00.000   \n",
       "3  CA-2011-118962  2011-08-05 00:00:00.000   West  2011-08-09 00:00:00.000   \n",
       "4  CA-2011-146969  2011-09-29 00:00:00.000   West  2011-10-03 00:00:00.000   \n",
       "\n",
       "        Ship.Mode  Shipping.Cost  Discount   Profit  Quantity  Sales   Segment  \n",
       "0    Second Class           4.37       0.0   9.3312         3     19  Consumer  \n",
       "1  Standard Class           0.94       0.0   9.2928         2     19  Consumer  \n",
       "2  Standard Class           1.81       0.0   9.8418         3     21  Consumer  \n",
       "3  Standard Class           4.59       0.0  53.2608         2    111  Consumer  \n",
       "4  Standard Class           1.32       0.0   3.1104         1      6  Consumer  "
      ]
     },
     "execution_count": 2,
     "metadata": {},
     "output_type": "execute_result"
    }
   ],
   "source": [
    "store = pd.read_csv(\"superstore.csv\")\n",
    "store = store[[ 'Product.Name', 'Category','Sub.Category', 'Country','State', 'Customer.ID',\n",
    "       'Customer.Name','Order.ID','Order.Date', 'Region','Ship.Date', 'Ship.Mode', 'Shipping.Cost',\n",
    "       'Discount', 'Profit', 'Quantity','Sales', 'Segment']]\n",
    "store.head()"
   ]
  },
  {
   "cell_type": "code",
   "execution_count": 3,
   "id": "5ea011b0",
   "metadata": {
    "papermill": {
     "duration": 0.019445,
     "end_time": "2024-10-09T08:14:29.306562",
     "exception": false,
     "start_time": "2024-10-09T08:14:29.287117",
     "status": "completed"
    },
    "tags": []
   },
   "outputs": [
    {
     "data": {
      "text/plain": [
       "Index(['Product.Name', 'Category', 'Sub.Category', 'Country', 'State',\n",
       "       'Customer.ID', 'Customer.Name', 'Order.ID', 'Order.Date', 'Region',\n",
       "       'Ship.Date', 'Ship.Mode', 'Shipping.Cost', 'Discount', 'Profit',\n",
       "       'Quantity', 'Sales', 'Segment'],\n",
       "      dtype='object')"
      ]
     },
     "execution_count": 3,
     "metadata": {},
     "output_type": "execute_result"
    }
   ],
   "source": [
    "store.columns"
   ]
  },
  {
   "cell_type": "code",
   "execution_count": 4,
   "id": "29c85837",
   "metadata": {
    "papermill": {
     "duration": 0.019974,
     "end_time": "2024-10-09T08:14:29.334663",
     "exception": false,
     "start_time": "2024-10-09T08:14:29.314689",
     "status": "completed"
    },
    "tags": []
   },
   "outputs": [
    {
     "name": "stdout",
     "output_type": "stream",
     "text": [
      "this dataset contains 51290 Records & 18 Atributes\n"
     ]
    }
   ],
   "source": [
    "a,b=store.shape\n",
    "print(f'this dataset contains {a} Records & {b} Atributes')"
   ]
  },
  {
   "cell_type": "code",
   "execution_count": 5,
   "id": "510f0a40",
   "metadata": {
    "papermill": {
     "duration": 0.072773,
     "end_time": "2024-10-09T08:14:29.415691",
     "exception": false,
     "start_time": "2024-10-09T08:14:29.342918",
     "status": "completed"
    },
    "tags": []
   },
   "outputs": [
    {
     "name": "stdout",
     "output_type": "stream",
     "text": [
      "<class 'pandas.core.frame.DataFrame'>\n",
      "RangeIndex: 51290 entries, 0 to 51289\n",
      "Data columns (total 18 columns):\n",
      " #   Column         Non-Null Count  Dtype  \n",
      "---  ------         --------------  -----  \n",
      " 0   Product.Name   51290 non-null  object \n",
      " 1   Category       51290 non-null  object \n",
      " 2   Sub.Category   51290 non-null  object \n",
      " 3   Country        51290 non-null  object \n",
      " 4   State          51290 non-null  object \n",
      " 5   Customer.ID    51290 non-null  object \n",
      " 6   Customer.Name  51290 non-null  object \n",
      " 7   Order.ID       51290 non-null  object \n",
      " 8   Order.Date     51290 non-null  object \n",
      " 9   Region         51290 non-null  object \n",
      " 10  Ship.Date      51290 non-null  object \n",
      " 11  Ship.Mode      51290 non-null  object \n",
      " 12  Shipping.Cost  51290 non-null  float64\n",
      " 13  Discount       51290 non-null  float64\n",
      " 14  Profit         51290 non-null  float64\n",
      " 15  Quantity       51290 non-null  int64  \n",
      " 16  Sales          51290 non-null  int64  \n",
      " 17  Segment        51290 non-null  object \n",
      "dtypes: float64(3), int64(2), object(13)\n",
      "memory usage: 7.0+ MB\n"
     ]
    }
   ],
   "source": [
    "store.info()"
   ]
  },
  {
   "cell_type": "markdown",
   "id": "85d652b1",
   "metadata": {
    "papermill": {
     "duration": 0.010564,
     "end_time": "2024-10-09T08:14:29.437032",
     "exception": false,
     "start_time": "2024-10-09T08:14:29.426468",
     "status": "completed"
    },
    "tags": []
   },
   "source": [
    "*this dataset not contain any NULL-VALUES*"
   ]
  },
  {
   "cell_type": "code",
   "execution_count": 6,
   "id": "23df0bf5",
   "metadata": {
    "papermill": {
     "duration": 0.052177,
     "end_time": "2024-10-09T08:14:29.499483",
     "exception": false,
     "start_time": "2024-10-09T08:14:29.447306",
     "status": "completed"
    },
    "tags": []
   },
   "outputs": [
    {
     "data": {
      "text/html": [
       "<div>\n",
       "<style scoped>\n",
       "    .dataframe tbody tr th:only-of-type {\n",
       "        vertical-align: middle;\n",
       "    }\n",
       "\n",
       "    .dataframe tbody tr th {\n",
       "        vertical-align: top;\n",
       "    }\n",
       "\n",
       "    .dataframe thead th {\n",
       "        text-align: right;\n",
       "    }\n",
       "</style>\n",
       "<table border=\"1\" class=\"dataframe\">\n",
       "  <thead>\n",
       "    <tr style=\"text-align: right;\">\n",
       "      <th></th>\n",
       "      <th>Shipping.Cost</th>\n",
       "      <th>Discount</th>\n",
       "      <th>Profit</th>\n",
       "      <th>Quantity</th>\n",
       "      <th>Sales</th>\n",
       "    </tr>\n",
       "  </thead>\n",
       "  <tbody>\n",
       "    <tr>\n",
       "      <th>count</th>\n",
       "      <td>51290.000000</td>\n",
       "      <td>51290.000000</td>\n",
       "      <td>51290.000000</td>\n",
       "      <td>51290.000000</td>\n",
       "      <td>51290.000000</td>\n",
       "    </tr>\n",
       "    <tr>\n",
       "      <th>mean</th>\n",
       "      <td>26.375818</td>\n",
       "      <td>0.142908</td>\n",
       "      <td>28.610982</td>\n",
       "      <td>3.476545</td>\n",
       "      <td>246.498440</td>\n",
       "    </tr>\n",
       "    <tr>\n",
       "      <th>std</th>\n",
       "      <td>57.296810</td>\n",
       "      <td>0.212280</td>\n",
       "      <td>174.340972</td>\n",
       "      <td>2.278766</td>\n",
       "      <td>487.567175</td>\n",
       "    </tr>\n",
       "    <tr>\n",
       "      <th>min</th>\n",
       "      <td>0.002000</td>\n",
       "      <td>0.000000</td>\n",
       "      <td>-6599.978000</td>\n",
       "      <td>1.000000</td>\n",
       "      <td>0.000000</td>\n",
       "    </tr>\n",
       "    <tr>\n",
       "      <th>25%</th>\n",
       "      <td>2.610000</td>\n",
       "      <td>0.000000</td>\n",
       "      <td>0.000000</td>\n",
       "      <td>2.000000</td>\n",
       "      <td>31.000000</td>\n",
       "    </tr>\n",
       "    <tr>\n",
       "      <th>50%</th>\n",
       "      <td>7.790000</td>\n",
       "      <td>0.000000</td>\n",
       "      <td>9.240000</td>\n",
       "      <td>3.000000</td>\n",
       "      <td>85.000000</td>\n",
       "    </tr>\n",
       "    <tr>\n",
       "      <th>75%</th>\n",
       "      <td>24.450000</td>\n",
       "      <td>0.200000</td>\n",
       "      <td>36.810000</td>\n",
       "      <td>5.000000</td>\n",
       "      <td>251.000000</td>\n",
       "    </tr>\n",
       "    <tr>\n",
       "      <th>max</th>\n",
       "      <td>933.570000</td>\n",
       "      <td>0.850000</td>\n",
       "      <td>8399.976000</td>\n",
       "      <td>14.000000</td>\n",
       "      <td>22638.000000</td>\n",
       "    </tr>\n",
       "  </tbody>\n",
       "</table>\n",
       "</div>"
      ],
      "text/plain": [
       "       Shipping.Cost      Discount        Profit      Quantity         Sales\n",
       "count   51290.000000  51290.000000  51290.000000  51290.000000  51290.000000\n",
       "mean       26.375818      0.142908     28.610982      3.476545    246.498440\n",
       "std        57.296810      0.212280    174.340972      2.278766    487.567175\n",
       "min         0.002000      0.000000  -6599.978000      1.000000      0.000000\n",
       "25%         2.610000      0.000000      0.000000      2.000000     31.000000\n",
       "50%         7.790000      0.000000      9.240000      3.000000     85.000000\n",
       "75%        24.450000      0.200000     36.810000      5.000000    251.000000\n",
       "max       933.570000      0.850000   8399.976000     14.000000  22638.000000"
      ]
     },
     "execution_count": 6,
     "metadata": {},
     "output_type": "execute_result"
    }
   ],
   "source": [
    "store.describe()"
   ]
  },
  {
   "cell_type": "markdown",
   "id": "25432078",
   "metadata": {
    "papermill": {
     "duration": 0.010764,
     "end_time": "2024-10-09T08:14:29.521753",
     "exception": false,
     "start_time": "2024-10-09T08:14:29.510989",
     "status": "completed"
    },
    "tags": []
   },
   "source": [
    "**CREATEING NEW CLOUMN**"
   ]
  },
  {
   "cell_type": "code",
   "execution_count": 7,
   "id": "5d161e75",
   "metadata": {
    "papermill": {
     "duration": 0.019593,
     "end_time": "2024-10-09T08:14:29.549865",
     "exception": false,
     "start_time": "2024-10-09T08:14:29.530272",
     "status": "completed"
    },
    "tags": []
   },
   "outputs": [],
   "source": [
    "store['Price']=round(store['Sales']/ store['Quantity'] ,3)"
   ]
  },
  {
   "cell_type": "markdown",
   "id": "274f1ecd",
   "metadata": {
    "papermill": {
     "duration": 0.008018,
     "end_time": "2024-10-09T08:14:29.566513",
     "exception": false,
     "start_time": "2024-10-09T08:14:29.558495",
     "status": "completed"
    },
    "tags": []
   },
   "source": [
    "-------------------"
   ]
  },
  {
   "cell_type": "markdown",
   "id": "a76edb01",
   "metadata": {
    "papermill": {
     "duration": 0.008152,
     "end_time": "2024-10-09T08:14:29.582910",
     "exception": false,
     "start_time": "2024-10-09T08:14:29.574758",
     "status": "completed"
    },
    "tags": []
   },
   "source": [
    "># IDENTIFYING STATES WITH SUBOPTIMAL SALES PERFORMANCE"
   ]
  },
  {
   "cell_type": "code",
   "execution_count": 8,
   "id": "d84146de",
   "metadata": {
    "papermill": {
     "duration": 0.030893,
     "end_time": "2024-10-09T08:14:29.622075",
     "exception": false,
     "start_time": "2024-10-09T08:14:29.591182",
     "status": "completed"
    },
    "tags": []
   },
   "outputs": [
    {
     "data": {
      "text/html": [
       "<div>\n",
       "<style scoped>\n",
       "    .dataframe tbody tr th:only-of-type {\n",
       "        vertical-align: middle;\n",
       "    }\n",
       "\n",
       "    .dataframe tbody tr th {\n",
       "        vertical-align: top;\n",
       "    }\n",
       "\n",
       "    .dataframe thead th {\n",
       "        text-align: right;\n",
       "    }\n",
       "</style>\n",
       "<table border=\"1\" class=\"dataframe\">\n",
       "  <thead>\n",
       "    <tr style=\"text-align: right;\">\n",
       "      <th></th>\n",
       "      <th>State</th>\n",
       "      <th>Sales</th>\n",
       "    </tr>\n",
       "  </thead>\n",
       "  <tbody>\n",
       "    <tr>\n",
       "      <th>0</th>\n",
       "      <td>Matabeleland North</td>\n",
       "      <td>3</td>\n",
       "    </tr>\n",
       "    <tr>\n",
       "      <th>1</th>\n",
       "      <td>Kabarole</td>\n",
       "      <td>4</td>\n",
       "    </tr>\n",
       "    <tr>\n",
       "      <th>2</th>\n",
       "      <td>Bitola</td>\n",
       "      <td>11</td>\n",
       "    </tr>\n",
       "    <tr>\n",
       "      <th>3</th>\n",
       "      <td>Manicaland</td>\n",
       "      <td>12</td>\n",
       "    </tr>\n",
       "    <tr>\n",
       "      <th>4</th>\n",
       "      <td>Pernik</td>\n",
       "      <td>15</td>\n",
       "    </tr>\n",
       "    <tr>\n",
       "      <th>5</th>\n",
       "      <td>Edirne</td>\n",
       "      <td>19</td>\n",
       "    </tr>\n",
       "    <tr>\n",
       "      <th>6</th>\n",
       "      <td>Rize</td>\n",
       "      <td>19</td>\n",
       "    </tr>\n",
       "    <tr>\n",
       "      <th>7</th>\n",
       "      <td>Gangwon</td>\n",
       "      <td>22</td>\n",
       "    </tr>\n",
       "    <tr>\n",
       "      <th>8</th>\n",
       "      <td>Zhambyl</td>\n",
       "      <td>22</td>\n",
       "    </tr>\n",
       "    <tr>\n",
       "      <th>9</th>\n",
       "      <td>Casanare</td>\n",
       "      <td>23</td>\n",
       "    </tr>\n",
       "  </tbody>\n",
       "</table>\n",
       "</div>"
      ],
      "text/plain": [
       "                State  Sales\n",
       "0  Matabeleland North      3\n",
       "1            Kabarole      4\n",
       "2              Bitola     11\n",
       "3          Manicaland     12\n",
       "4              Pernik     15\n",
       "5              Edirne     19\n",
       "6                Rize     19\n",
       "7             Gangwon     22\n",
       "8             Zhambyl     22\n",
       "9            Casanare     23"
      ]
     },
     "execution_count": 8,
     "metadata": {},
     "output_type": "execute_result"
    }
   ],
   "source": [
    "state = store.groupby('State')['Sales'].sum().nsmallest(10).reset_index()\n",
    "state"
   ]
  },
  {
   "cell_type": "markdown",
   "id": "490c7c52",
   "metadata": {
    "papermill": {
     "duration": 0.009117,
     "end_time": "2024-10-09T08:14:29.639957",
     "exception": false,
     "start_time": "2024-10-09T08:14:29.630840",
     "status": "completed"
    },
    "tags": []
   },
   "source": [
    "-------------------------"
   ]
  },
  {
   "cell_type": "markdown",
   "id": "db1d0879",
   "metadata": {
    "papermill": {
     "duration": 0.008243,
     "end_time": "2024-10-09T08:14:29.656962",
     "exception": false,
     "start_time": "2024-10-09T08:14:29.648719",
     "status": "completed"
    },
    "tags": []
   },
   "source": [
    "># TOP 10 PROFITABLE CUSTOMERS"
   ]
  },
  {
   "cell_type": "code",
   "execution_count": 9,
   "id": "9abb3d4c",
   "metadata": {
    "papermill": {
     "duration": 0.119261,
     "end_time": "2024-10-09T08:14:29.784831",
     "exception": false,
     "start_time": "2024-10-09T08:14:29.665570",
     "status": "completed"
    },
    "tags": []
   },
   "outputs": [
    {
     "data": {
      "text/html": [
       "<div>\n",
       "<style scoped>\n",
       "    .dataframe tbody tr th:only-of-type {\n",
       "        vertical-align: middle;\n",
       "    }\n",
       "\n",
       "    .dataframe tbody tr th {\n",
       "        vertical-align: top;\n",
       "    }\n",
       "\n",
       "    .dataframe thead th {\n",
       "        text-align: right;\n",
       "    }\n",
       "</style>\n",
       "<table border=\"1\" class=\"dataframe\">\n",
       "  <thead>\n",
       "    <tr style=\"text-align: right;\">\n",
       "      <th></th>\n",
       "      <th>Customer.ID</th>\n",
       "      <th>Customer.Name</th>\n",
       "      <th>Profit</th>\n",
       "    </tr>\n",
       "  </thead>\n",
       "  <tbody>\n",
       "    <tr>\n",
       "      <th>0</th>\n",
       "      <td>TC-209804</td>\n",
       "      <td>Tamara Chand</td>\n",
       "      <td>8981.3239</td>\n",
       "    </tr>\n",
       "    <tr>\n",
       "      <th>1</th>\n",
       "      <td>RB-193604</td>\n",
       "      <td>Raymond Buch</td>\n",
       "      <td>6976.0959</td>\n",
       "    </tr>\n",
       "    <tr>\n",
       "      <th>2</th>\n",
       "      <td>SC-200954</td>\n",
       "      <td>Sanjit Chand</td>\n",
       "      <td>5757.4119</td>\n",
       "    </tr>\n",
       "    <tr>\n",
       "      <th>3</th>\n",
       "      <td>HL-150404</td>\n",
       "      <td>Hunter Lopez</td>\n",
       "      <td>5622.4292</td>\n",
       "    </tr>\n",
       "    <tr>\n",
       "      <th>4</th>\n",
       "      <td>AB-101054</td>\n",
       "      <td>Adrian Barton</td>\n",
       "      <td>5444.8055</td>\n",
       "    </tr>\n",
       "    <tr>\n",
       "      <th>5</th>\n",
       "      <td>SP-209202</td>\n",
       "      <td>Susan Pistek</td>\n",
       "      <td>4974.5130</td>\n",
       "    </tr>\n",
       "    <tr>\n",
       "      <th>6</th>\n",
       "      <td>TA-213854</td>\n",
       "      <td>Tom Ashbrook</td>\n",
       "      <td>4703.7883</td>\n",
       "    </tr>\n",
       "    <tr>\n",
       "      <th>7</th>\n",
       "      <td>CA-127751</td>\n",
       "      <td>Cynthia Arntzen</td>\n",
       "      <td>4045.8780</td>\n",
       "    </tr>\n",
       "    <tr>\n",
       "      <th>8</th>\n",
       "      <td>PJ-188352</td>\n",
       "      <td>Patrick Jones</td>\n",
       "      <td>3986.0040</td>\n",
       "    </tr>\n",
       "    <tr>\n",
       "      <th>9</th>\n",
       "      <td>CM-123854</td>\n",
       "      <td>Christopher Martinez</td>\n",
       "      <td>3899.8904</td>\n",
       "    </tr>\n",
       "  </tbody>\n",
       "</table>\n",
       "</div>"
      ],
      "text/plain": [
       "  Customer.ID         Customer.Name     Profit\n",
       "0   TC-209804          Tamara Chand  8981.3239\n",
       "1   RB-193604          Raymond Buch  6976.0959\n",
       "2   SC-200954          Sanjit Chand  5757.4119\n",
       "3   HL-150404          Hunter Lopez  5622.4292\n",
       "4   AB-101054         Adrian Barton  5444.8055\n",
       "5   SP-209202          Susan Pistek  4974.5130\n",
       "6   TA-213854          Tom Ashbrook  4703.7883\n",
       "7   CA-127751       Cynthia Arntzen  4045.8780\n",
       "8   PJ-188352         Patrick Jones  3986.0040\n",
       "9   CM-123854  Christopher Martinez  3899.8904"
      ]
     },
     "execution_count": 9,
     "metadata": {},
     "output_type": "execute_result"
    }
   ],
   "source": [
    "custom = store.groupby(['Customer.ID','Customer.Name'])['Profit'].sum().nlargest(10).reset_index()\n",
    "custom"
   ]
  },
  {
   "cell_type": "markdown",
   "id": "387062e7",
   "metadata": {
    "papermill": {
     "duration": 0.008421,
     "end_time": "2024-10-09T08:14:29.802149",
     "exception": false,
     "start_time": "2024-10-09T08:14:29.793728",
     "status": "completed"
    },
    "tags": []
   },
   "source": [
    "-------------------"
   ]
  },
  {
   "cell_type": "markdown",
   "id": "71c97db3",
   "metadata": {
    "papermill": {
     "duration": 0.009017,
     "end_time": "2024-10-09T08:14:29.820066",
     "exception": false,
     "start_time": "2024-10-09T08:14:29.811049",
     "status": "completed"
    },
    "tags": []
   },
   "source": [
    "># SUB-CATEGORY WISE SALES"
   ]
  },
  {
   "cell_type": "code",
   "execution_count": 10,
   "id": "8309b762",
   "metadata": {
    "papermill": {
     "duration": 0.038522,
     "end_time": "2024-10-09T08:14:29.868176",
     "exception": false,
     "start_time": "2024-10-09T08:14:29.829654",
     "status": "completed"
    },
    "tags": []
   },
   "outputs": [
    {
     "data": {
      "text/html": [
       "<div>\n",
       "<style scoped>\n",
       "    .dataframe tbody tr th:only-of-type {\n",
       "        vertical-align: middle;\n",
       "    }\n",
       "\n",
       "    .dataframe tbody tr th {\n",
       "        vertical-align: top;\n",
       "    }\n",
       "\n",
       "    .dataframe thead th {\n",
       "        text-align: right;\n",
       "    }\n",
       "</style>\n",
       "<table border=\"1\" class=\"dataframe\">\n",
       "  <thead>\n",
       "    <tr style=\"text-align: right;\">\n",
       "      <th></th>\n",
       "      <th>Sub.Category</th>\n",
       "      <th>Sales</th>\n",
       "    </tr>\n",
       "  </thead>\n",
       "  <tbody>\n",
       "    <tr>\n",
       "      <th>0</th>\n",
       "      <td>Accessories</td>\n",
       "      <td>749307</td>\n",
       "    </tr>\n",
       "    <tr>\n",
       "      <th>1</th>\n",
       "      <td>Appliances</td>\n",
       "      <td>1011081</td>\n",
       "    </tr>\n",
       "    <tr>\n",
       "      <th>2</th>\n",
       "      <td>Art</td>\n",
       "      <td>372163</td>\n",
       "    </tr>\n",
       "    <tr>\n",
       "      <th>3</th>\n",
       "      <td>Binders</td>\n",
       "      <td>461952</td>\n",
       "    </tr>\n",
       "    <tr>\n",
       "      <th>4</th>\n",
       "      <td>Bookcases</td>\n",
       "      <td>1466559</td>\n",
       "    </tr>\n",
       "    <tr>\n",
       "      <th>5</th>\n",
       "      <td>Chairs</td>\n",
       "      <td>1501682</td>\n",
       "    </tr>\n",
       "    <tr>\n",
       "      <th>6</th>\n",
       "      <td>Copiers</td>\n",
       "      <td>1509439</td>\n",
       "    </tr>\n",
       "    <tr>\n",
       "      <th>7</th>\n",
       "      <td>Envelopes</td>\n",
       "      <td>170926</td>\n",
       "    </tr>\n",
       "    <tr>\n",
       "      <th>8</th>\n",
       "      <td>Fasteners</td>\n",
       "      <td>83254</td>\n",
       "    </tr>\n",
       "    <tr>\n",
       "      <th>9</th>\n",
       "      <td>Furnishings</td>\n",
       "      <td>385609</td>\n",
       "    </tr>\n",
       "    <tr>\n",
       "      <th>10</th>\n",
       "      <td>Labels</td>\n",
       "      <td>73433</td>\n",
       "    </tr>\n",
       "    <tr>\n",
       "      <th>11</th>\n",
       "      <td>Machines</td>\n",
       "      <td>779071</td>\n",
       "    </tr>\n",
       "    <tr>\n",
       "      <th>12</th>\n",
       "      <td>Paper</td>\n",
       "      <td>244307</td>\n",
       "    </tr>\n",
       "    <tr>\n",
       "      <th>13</th>\n",
       "      <td>Phones</td>\n",
       "      <td>1706874</td>\n",
       "    </tr>\n",
       "    <tr>\n",
       "      <th>14</th>\n",
       "      <td>Storage</td>\n",
       "      <td>1127124</td>\n",
       "    </tr>\n",
       "    <tr>\n",
       "      <th>15</th>\n",
       "      <td>Supplies</td>\n",
       "      <td>243090</td>\n",
       "    </tr>\n",
       "    <tr>\n",
       "      <th>16</th>\n",
       "      <td>Tables</td>\n",
       "      <td>757034</td>\n",
       "    </tr>\n",
       "  </tbody>\n",
       "</table>\n",
       "</div>"
      ],
      "text/plain": [
       "   Sub.Category    Sales\n",
       "0   Accessories   749307\n",
       "1    Appliances  1011081\n",
       "2           Art   372163\n",
       "3       Binders   461952\n",
       "4     Bookcases  1466559\n",
       "5        Chairs  1501682\n",
       "6       Copiers  1509439\n",
       "7     Envelopes   170926\n",
       "8     Fasteners    83254\n",
       "9   Furnishings   385609\n",
       "10       Labels    73433\n",
       "11     Machines   779071\n",
       "12        Paper   244307\n",
       "13       Phones  1706874\n",
       "14      Storage  1127124\n",
       "15     Supplies   243090\n",
       "16       Tables   757034"
      ]
     },
     "execution_count": 10,
     "metadata": {},
     "output_type": "execute_result"
    }
   ],
   "source": [
    "#sub-Category wise Sale\n",
    "scat = store.groupby('Sub.Category')['Sales'].sum().reset_index()\n",
    "scat"
   ]
  },
  {
   "cell_type": "code",
   "execution_count": 11,
   "id": "a5cac10a",
   "metadata": {
    "papermill": {
     "duration": 0.622414,
     "end_time": "2024-10-09T08:14:30.501678",
     "exception": false,
     "start_time": "2024-10-09T08:14:29.879264",
     "status": "completed"
    },
    "tags": []
   },
   "outputs": [
    {
     "data": {
      "text/plain": [
       "Text(0.5, 1.0, 'Sub-Category wise Sales')"
      ]
     },
     "execution_count": 11,
     "metadata": {},
     "output_type": "execute_result"
    },
    {
     "data": {
      "image/png": "[encoded data removed]",
      "text/plain": [
       "<Figure size 1600x600 with 1 Axes>"
      ]
     },
     "metadata": {},
     "output_type": "display_data"
    }
   ],
   "source": [
    "plt.figure(figsize=(16,6))\n",
    "sns.barplot(x='Sub.Category',y='Sales',data=scat)\n",
    "plt.title('Sub-Category wise Sales',fontsize=18)\n"
   ]
  },
  {
   "cell_type": "markdown",
   "id": "769c2ec8",
   "metadata": {
    "papermill": {
     "duration": 0.009438,
     "end_time": "2024-10-09T08:14:30.521009",
     "exception": false,
     "start_time": "2024-10-09T08:14:30.511571",
     "status": "completed"
    },
    "tags": []
   },
   "source": [
    "--------------"
   ]
  },
  {
   "cell_type": "markdown",
   "id": "9d32f75d",
   "metadata": {
    "papermill": {
     "duration": 0.009642,
     "end_time": "2024-10-09T08:14:30.540479",
     "exception": false,
     "start_time": "2024-10-09T08:14:30.530837",
     "status": "completed"
    },
    "tags": []
   },
   "source": [
    "># TO FIND CATEGORY WISE PROFIT CONTRIBUTION"
   ]
  },
  {
   "cell_type": "code",
   "execution_count": 12,
   "id": "9af3909f",
   "metadata": {
    "papermill": {
     "duration": 0.029936,
     "end_time": "2024-10-09T08:14:30.580754",
     "exception": false,
     "start_time": "2024-10-09T08:14:30.550818",
     "status": "completed"
    },
    "tags": []
   },
   "outputs": [
    {
     "data": {
      "text/html": [
       "<div>\n",
       "<style scoped>\n",
       "    .dataframe tbody tr th:only-of-type {\n",
       "        vertical-align: middle;\n",
       "    }\n",
       "\n",
       "    .dataframe tbody tr th {\n",
       "        vertical-align: top;\n",
       "    }\n",
       "\n",
       "    .dataframe thead th {\n",
       "        text-align: right;\n",
       "    }\n",
       "</style>\n",
       "<table border=\"1\" class=\"dataframe\">\n",
       "  <thead>\n",
       "    <tr style=\"text-align: right;\">\n",
       "      <th></th>\n",
       "      <th>Category</th>\n",
       "      <th>Profit</th>\n",
       "    </tr>\n",
       "  </thead>\n",
       "  <tbody>\n",
       "    <tr>\n",
       "      <th>0</th>\n",
       "      <td>Furniture</td>\n",
       "      <td>285204.72380</td>\n",
       "    </tr>\n",
       "    <tr>\n",
       "      <th>1</th>\n",
       "      <td>Office Supplies</td>\n",
       "      <td>518473.83430</td>\n",
       "    </tr>\n",
       "    <tr>\n",
       "      <th>2</th>\n",
       "      <td>Technology</td>\n",
       "      <td>663778.73318</td>\n",
       "    </tr>\n",
       "  </tbody>\n",
       "</table>\n",
       "</div>"
      ],
      "text/plain": [
       "          Category        Profit\n",
       "0        Furniture  285204.72380\n",
       "1  Office Supplies  518473.83430\n",
       "2       Technology  663778.73318"
      ]
     },
     "execution_count": 12,
     "metadata": {},
     "output_type": "execute_result"
    }
   ],
   "source": [
    "cat = store.groupby('Category')['Profit'].sum().reset_index()\n",
    "cat"
   ]
  },
  {
   "cell_type": "code",
   "execution_count": 13,
   "id": "6fcf2283",
   "metadata": {
    "papermill": {
     "duration": 0.156208,
     "end_time": "2024-10-09T08:14:30.747162",
     "exception": false,
     "start_time": "2024-10-09T08:14:30.590954",
     "status": "completed"
    },
    "tags": []
   },
   "outputs": [
    {
     "data": {
      "text/plain": [
       "Text(0.5, 1.0, 'Category wise Profit Contribution')"
      ]
     },
     "execution_count": 13,
     "metadata": {},
     "output_type": "execute_result"
    },
    {
     "data": {
      "image/png": "[encoded data removed]",
      "text/plain": [
       "<Figure size 640x480 with 1 Axes>"
      ]
     },
     "metadata": {},
     "output_type": "display_data"
    }
   ],
   "source": [
    "plt.pie(cat['Profit'],labels=cat['Category'],autopct='%1.1f%%',startangle=90)\n",
    "plt.title(\"Category wise Profit Contribution\",fontsize=19)"
   ]
  },
  {
   "cell_type": "markdown",
   "id": "946f73ff",
   "metadata": {
    "papermill": {
     "duration": 0.010609,
     "end_time": "2024-10-09T08:14:30.768659",
     "exception": false,
     "start_time": "2024-10-09T08:14:30.758050",
     "status": "completed"
    },
    "tags": []
   },
   "source": [
    "------------"
   ]
  },
  {
   "cell_type": "markdown",
   "id": "4e09914b",
   "metadata": {
    "papermill": {
     "duration": 0.010434,
     "end_time": "2024-10-09T08:14:30.790804",
     "exception": false,
     "start_time": "2024-10-09T08:14:30.780370",
     "status": "completed"
    },
    "tags": []
   },
   "source": [
    "># REGION AND CATEGORY WISE SHIPPING-COST"
   ]
  },
  {
   "cell_type": "code",
   "execution_count": 14,
   "id": "0b0b32b7",
   "metadata": {
    "papermill": {
     "duration": 0.042724,
     "end_time": "2024-10-09T08:14:30.844213",
     "exception": false,
     "start_time": "2024-10-09T08:14:30.801489",
     "status": "completed"
    },
    "tags": []
   },
   "outputs": [
    {
     "data": {
      "text/html": [
       "<div>\n",
       "<style scoped>\n",
       "    .dataframe tbody tr th:only-of-type {\n",
       "        vertical-align: middle;\n",
       "    }\n",
       "\n",
       "    .dataframe tbody tr th {\n",
       "        vertical-align: top;\n",
       "    }\n",
       "\n",
       "    .dataframe thead th {\n",
       "        text-align: right;\n",
       "    }\n",
       "</style>\n",
       "<table border=\"1\" class=\"dataframe\">\n",
       "  <thead>\n",
       "    <tr style=\"text-align: right;\">\n",
       "      <th></th>\n",
       "      <th>Region</th>\n",
       "      <th>Category</th>\n",
       "      <th>Shipping.Cost</th>\n",
       "    </tr>\n",
       "  </thead>\n",
       "  <tbody>\n",
       "    <tr>\n",
       "      <th>0</th>\n",
       "      <td>Africa</td>\n",
       "      <td>Furniture</td>\n",
       "      <td>20409.0400</td>\n",
       "    </tr>\n",
       "    <tr>\n",
       "      <th>1</th>\n",
       "      <td>Africa</td>\n",
       "      <td>Office Supplies</td>\n",
       "      <td>31095.9400</td>\n",
       "    </tr>\n",
       "    <tr>\n",
       "      <th>2</th>\n",
       "      <td>Africa</td>\n",
       "      <td>Technology</td>\n",
       "      <td>36634.4900</td>\n",
       "    </tr>\n",
       "    <tr>\n",
       "      <th>3</th>\n",
       "      <td>Canada</td>\n",
       "      <td>Furniture</td>\n",
       "      <td>1194.7500</td>\n",
       "    </tr>\n",
       "    <tr>\n",
       "      <th>4</th>\n",
       "      <td>Canada</td>\n",
       "      <td>Office Supplies</td>\n",
       "      <td>3388.5300</td>\n",
       "    </tr>\n",
       "    <tr>\n",
       "      <th>5</th>\n",
       "      <td>Canada</td>\n",
       "      <td>Technology</td>\n",
       "      <td>2822.3500</td>\n",
       "    </tr>\n",
       "    <tr>\n",
       "      <th>6</th>\n",
       "      <td>Caribbean</td>\n",
       "      <td>Furniture</td>\n",
       "      <td>12644.8460</td>\n",
       "    </tr>\n",
       "    <tr>\n",
       "      <th>7</th>\n",
       "      <td>Caribbean</td>\n",
       "      <td>Office Supplies</td>\n",
       "      <td>10323.4560</td>\n",
       "    </tr>\n",
       "    <tr>\n",
       "      <th>8</th>\n",
       "      <td>Caribbean</td>\n",
       "      <td>Technology</td>\n",
       "      <td>12621.0740</td>\n",
       "    </tr>\n",
       "    <tr>\n",
       "      <th>9</th>\n",
       "      <td>Central</td>\n",
       "      <td>Furniture</td>\n",
       "      <td>89224.6550</td>\n",
       "    </tr>\n",
       "    <tr>\n",
       "      <th>10</th>\n",
       "      <td>Central</td>\n",
       "      <td>Office Supplies</td>\n",
       "      <td>96545.1920</td>\n",
       "    </tr>\n",
       "    <tr>\n",
       "      <th>11</th>\n",
       "      <td>Central</td>\n",
       "      <td>Technology</td>\n",
       "      <td>111169.2530</td>\n",
       "    </tr>\n",
       "    <tr>\n",
       "      <th>12</th>\n",
       "      <td>Central Asia</td>\n",
       "      <td>Furniture</td>\n",
       "      <td>29418.8100</td>\n",
       "    </tr>\n",
       "    <tr>\n",
       "      <th>13</th>\n",
       "      <td>Central Asia</td>\n",
       "      <td>Office Supplies</td>\n",
       "      <td>16253.9000</td>\n",
       "    </tr>\n",
       "    <tr>\n",
       "      <th>14</th>\n",
       "      <td>Central Asia</td>\n",
       "      <td>Technology</td>\n",
       "      <td>32157.4400</td>\n",
       "    </tr>\n",
       "    <tr>\n",
       "      <th>15</th>\n",
       "      <td>EMEA</td>\n",
       "      <td>Furniture</td>\n",
       "      <td>25583.0500</td>\n",
       "    </tr>\n",
       "    <tr>\n",
       "      <th>16</th>\n",
       "      <td>EMEA</td>\n",
       "      <td>Office Supplies</td>\n",
       "      <td>29244.0600</td>\n",
       "    </tr>\n",
       "    <tr>\n",
       "      <th>17</th>\n",
       "      <td>EMEA</td>\n",
       "      <td>Technology</td>\n",
       "      <td>33548.6200</td>\n",
       "    </tr>\n",
       "    <tr>\n",
       "      <th>18</th>\n",
       "      <td>East</td>\n",
       "      <td>Furniture</td>\n",
       "      <td>22586.0500</td>\n",
       "    </tr>\n",
       "    <tr>\n",
       "      <th>19</th>\n",
       "      <td>East</td>\n",
       "      <td>Office Supplies</td>\n",
       "      <td>23230.4200</td>\n",
       "    </tr>\n",
       "    <tr>\n",
       "      <th>20</th>\n",
       "      <td>East</td>\n",
       "      <td>Technology</td>\n",
       "      <td>26927.1500</td>\n",
       "    </tr>\n",
       "    <tr>\n",
       "      <th>21</th>\n",
       "      <td>North</td>\n",
       "      <td>Furniture</td>\n",
       "      <td>39294.5940</td>\n",
       "    </tr>\n",
       "    <tr>\n",
       "      <th>22</th>\n",
       "      <td>North</td>\n",
       "      <td>Office Supplies</td>\n",
       "      <td>39795.9830</td>\n",
       "    </tr>\n",
       "    <tr>\n",
       "      <th>23</th>\n",
       "      <td>North</td>\n",
       "      <td>Technology</td>\n",
       "      <td>52382.0710</td>\n",
       "    </tr>\n",
       "    <tr>\n",
       "      <th>24</th>\n",
       "      <td>North Asia</td>\n",
       "      <td>Furniture</td>\n",
       "      <td>37100.5100</td>\n",
       "    </tr>\n",
       "    <tr>\n",
       "      <th>25</th>\n",
       "      <td>North Asia</td>\n",
       "      <td>Office Supplies</td>\n",
       "      <td>22420.9800</td>\n",
       "    </tr>\n",
       "    <tr>\n",
       "      <th>26</th>\n",
       "      <td>North Asia</td>\n",
       "      <td>Technology</td>\n",
       "      <td>35509.1200</td>\n",
       "    </tr>\n",
       "    <tr>\n",
       "      <th>27</th>\n",
       "      <td>Oceania</td>\n",
       "      <td>Furniture</td>\n",
       "      <td>44582.2000</td>\n",
       "    </tr>\n",
       "    <tr>\n",
       "      <th>28</th>\n",
       "      <td>Oceania</td>\n",
       "      <td>Office Supplies</td>\n",
       "      <td>28838.4700</td>\n",
       "    </tr>\n",
       "    <tr>\n",
       "      <th>29</th>\n",
       "      <td>Oceania</td>\n",
       "      <td>Technology</td>\n",
       "      <td>47207.8400</td>\n",
       "    </tr>\n",
       "    <tr>\n",
       "      <th>30</th>\n",
       "      <td>South</td>\n",
       "      <td>Furniture</td>\n",
       "      <td>54971.7740</td>\n",
       "    </tr>\n",
       "    <tr>\n",
       "      <th>31</th>\n",
       "      <td>South</td>\n",
       "      <td>Office Supplies</td>\n",
       "      <td>55999.1540</td>\n",
       "    </tr>\n",
       "    <tr>\n",
       "      <th>32</th>\n",
       "      <td>South</td>\n",
       "      <td>Technology</td>\n",
       "      <td>57501.8235</td>\n",
       "    </tr>\n",
       "    <tr>\n",
       "      <th>33</th>\n",
       "      <td>Southeast Asia</td>\n",
       "      <td>Furniture</td>\n",
       "      <td>34592.9300</td>\n",
       "    </tr>\n",
       "    <tr>\n",
       "      <th>34</th>\n",
       "      <td>Southeast Asia</td>\n",
       "      <td>Office Supplies</td>\n",
       "      <td>26059.0300</td>\n",
       "    </tr>\n",
       "    <tr>\n",
       "      <th>35</th>\n",
       "      <td>Southeast Asia</td>\n",
       "      <td>Technology</td>\n",
       "      <td>33023.8840</td>\n",
       "    </tr>\n",
       "    <tr>\n",
       "      <th>36</th>\n",
       "      <td>West</td>\n",
       "      <td>Furniture</td>\n",
       "      <td>28716.2700</td>\n",
       "    </tr>\n",
       "    <tr>\n",
       "      <th>37</th>\n",
       "      <td>West</td>\n",
       "      <td>Office Supplies</td>\n",
       "      <td>22253.2300</td>\n",
       "    </tr>\n",
       "    <tr>\n",
       "      <th>38</th>\n",
       "      <td>West</td>\n",
       "      <td>Technology</td>\n",
       "      <td>25542.7639</td>\n",
       "    </tr>\n",
       "  </tbody>\n",
       "</table>\n",
       "</div>"
      ],
      "text/plain": [
       "            Region         Category  Shipping.Cost\n",
       "0           Africa        Furniture     20409.0400\n",
       "1           Africa  Office Supplies     31095.9400\n",
       "2           Africa       Technology     36634.4900\n",
       "3           Canada        Furniture      1194.7500\n",
       "4           Canada  Office Supplies      3388.5300\n",
       "5           Canada       Technology      2822.3500\n",
       "6        Caribbean        Furniture     12644.8460\n",
       "7        Caribbean  Office Supplies     10323.4560\n",
       "8        Caribbean       Technology     12621.0740\n",
       "9          Central        Furniture     89224.6550\n",
       "10         Central  Office Supplies     96545.1920\n",
       "11         Central       Technology    111169.2530\n",
       "12    Central Asia        Furniture     29418.8100\n",
       "13    Central Asia  Office Supplies     16253.9000\n",
       "14    Central Asia       Technology     32157.4400\n",
       "15            EMEA        Furniture     25583.0500\n",
       "16            EMEA  Office Supplies     29244.0600\n",
       "17            EMEA       Technology     33548.6200\n",
       "18            East        Furniture     22586.0500\n",
       "19            East  Office Supplies     23230.4200\n",
       "20            East       Technology     26927.1500\n",
       "21           North        Furniture     39294.5940\n",
       "22           North  Office Supplies     39795.9830\n",
       "23           North       Technology     52382.0710\n",
       "24      North Asia        Furniture     37100.5100\n",
       "25      North Asia  Office Supplies     22420.9800\n",
       "26      North Asia       Technology     35509.1200\n",
       "27         Oceania        Furniture     44582.2000\n",
       "28         Oceania  Office Supplies     28838.4700\n",
       "29         Oceania       Technology     47207.8400\n",
       "30           South        Furniture     54971.7740\n",
       "31           South  Office Supplies     55999.1540\n",
       "32           South       Technology     57501.8235\n",
       "33  Southeast Asia        Furniture     34592.9300\n",
       "34  Southeast Asia  Office Supplies     26059.0300\n",
       "35  Southeast Asia       Technology     33023.8840\n",
       "36            West        Furniture     28716.2700\n",
       "37            West  Office Supplies     22253.2300\n",
       "38            West       Technology     25542.7639"
      ]
     },
     "execution_count": 14,
     "metadata": {},
     "output_type": "execute_result"
    }
   ],
   "source": [
    "rect = store.groupby([\"Region\", \"Category\"])[\"Shipping.Cost\"].sum().reset_index()\n",
    "rect\n"
   ]
  },
  {
   "cell_type": "code",
   "execution_count": 15,
   "id": "77dcd4e1",
   "metadata": {
    "papermill": {
     "duration": 0.735943,
     "end_time": "2024-10-09T08:14:31.591141",
     "exception": false,
     "start_time": "2024-10-09T08:14:30.855198",
     "status": "completed"
    },
    "tags": []
   },
   "outputs": [
    {
     "data": {
      "image/png": "[encoded data removed]",
      "text/plain": [
       "<Figure size 1388.88x650 with 1 Axes>"
      ]
     },
     "metadata": {},
     "output_type": "display_data"
    }
   ],
   "source": [
    "sns.catplot( x=\"Region\", y=\"Shipping.Cost\",data=rect, hue=\"Category\", kind=\"bar\", height=6.5, aspect=1.9)\n",
    "plt.title(\"Region and Category-wise Shipping-Cost\",fontsize=26)\n",
    "plt.xlabel('Region',fontsize=15)\n",
    "plt.ylabel('Shipping Cost',fontsize=15)\n",
    "plt.show()"
   ]
  },
  {
   "cell_type": "markdown",
   "id": "c2682dbc",
   "metadata": {
    "papermill": {
     "duration": 0.011253,
     "end_time": "2024-10-09T08:14:31.614137",
     "exception": false,
     "start_time": "2024-10-09T08:14:31.602884",
     "status": "completed"
    },
    "tags": []
   },
   "source": [
    "---------------------------------------"
   ]
  },
  {
   "cell_type": "markdown",
   "id": "ab4e5f4c",
   "metadata": {
    "papermill": {
     "duration": 0.011149,
     "end_time": "2024-10-09T08:14:31.636926",
     "exception": false,
     "start_time": "2024-10-09T08:14:31.625777",
     "status": "completed"
    },
    "tags": []
   },
   "source": [
    "># TOP 10 PRODUCT WHICH CONTRIBUTES HIGH PROFIT"
   ]
  },
  {
   "cell_type": "code",
   "execution_count": 16,
   "id": "876b1b43",
   "metadata": {
    "papermill": {
     "duration": 0.038928,
     "end_time": "2024-10-09T08:14:31.687581",
     "exception": false,
     "start_time": "2024-10-09T08:14:31.648653",
     "status": "completed"
    },
    "tags": []
   },
   "outputs": [
    {
     "data": {
      "text/html": [
       "<div>\n",
       "<style scoped>\n",
       "    .dataframe tbody tr th:only-of-type {\n",
       "        vertical-align: middle;\n",
       "    }\n",
       "\n",
       "    .dataframe tbody tr th {\n",
       "        vertical-align: top;\n",
       "    }\n",
       "\n",
       "    .dataframe thead th {\n",
       "        text-align: right;\n",
       "    }\n",
       "</style>\n",
       "<table border=\"1\" class=\"dataframe\">\n",
       "  <thead>\n",
       "    <tr style=\"text-align: right;\">\n",
       "      <th></th>\n",
       "      <th>Product.Name</th>\n",
       "      <th>Profit</th>\n",
       "    </tr>\n",
       "  </thead>\n",
       "  <tbody>\n",
       "    <tr>\n",
       "      <th>0</th>\n",
       "      <td>Canon imageCLASS 2200 Advanced Copier</td>\n",
       "      <td>25199.9280</td>\n",
       "    </tr>\n",
       "    <tr>\n",
       "      <th>1</th>\n",
       "      <td>Cisco Smart Phone, Full Size</td>\n",
       "      <td>17238.5206</td>\n",
       "    </tr>\n",
       "    <tr>\n",
       "      <th>2</th>\n",
       "      <td>Motorola Smart Phone, Full Size</td>\n",
       "      <td>17027.1130</td>\n",
       "    </tr>\n",
       "    <tr>\n",
       "      <th>3</th>\n",
       "      <td>Hoover Stove, Red</td>\n",
       "      <td>11807.9690</td>\n",
       "    </tr>\n",
       "    <tr>\n",
       "      <th>4</th>\n",
       "      <td>Sauder Classic Bookcase, Traditional</td>\n",
       "      <td>10672.0730</td>\n",
       "    </tr>\n",
       "    <tr>\n",
       "      <th>5</th>\n",
       "      <td>Harbour Creations Executive Leather Armchair, ...</td>\n",
       "      <td>10427.3260</td>\n",
       "    </tr>\n",
       "    <tr>\n",
       "      <th>6</th>\n",
       "      <td>Nokia Smart Phone, Full Size</td>\n",
       "      <td>9938.1955</td>\n",
       "    </tr>\n",
       "    <tr>\n",
       "      <th>7</th>\n",
       "      <td>Cisco Smart Phone, with Caller ID</td>\n",
       "      <td>9786.6408</td>\n",
       "    </tr>\n",
       "    <tr>\n",
       "      <th>8</th>\n",
       "      <td>Nokia Smart Phone, with Caller ID</td>\n",
       "      <td>9465.3257</td>\n",
       "    </tr>\n",
       "    <tr>\n",
       "      <th>9</th>\n",
       "      <td>Belkin Router, USB</td>\n",
       "      <td>8955.0180</td>\n",
       "    </tr>\n",
       "  </tbody>\n",
       "</table>\n",
       "</div>"
      ],
      "text/plain": [
       "                                        Product.Name      Profit\n",
       "0              Canon imageCLASS 2200 Advanced Copier  25199.9280\n",
       "1                       Cisco Smart Phone, Full Size  17238.5206\n",
       "2                    Motorola Smart Phone, Full Size  17027.1130\n",
       "3                                  Hoover Stove, Red  11807.9690\n",
       "4               Sauder Classic Bookcase, Traditional  10672.0730\n",
       "5  Harbour Creations Executive Leather Armchair, ...  10427.3260\n",
       "6                       Nokia Smart Phone, Full Size   9938.1955\n",
       "7                  Cisco Smart Phone, with Caller ID   9786.6408\n",
       "8                  Nokia Smart Phone, with Caller ID   9465.3257\n",
       "9                                 Belkin Router, USB   8955.0180"
      ]
     },
     "execution_count": 16,
     "metadata": {},
     "output_type": "execute_result"
    }
   ],
   "source": [
    "\n",
    "prod = store.groupby('Product.Name')['Profit'].sum().sort_values(ascending=False)\n",
    "prod = prod.reset_index().head(10)\n",
    "prod"
   ]
  },
  {
   "cell_type": "code",
   "execution_count": 17,
   "id": "2f68af8e",
   "metadata": {
    "papermill": {
     "duration": 0.373154,
     "end_time": "2024-10-09T08:14:32.072810",
     "exception": false,
     "start_time": "2024-10-09T08:14:31.699656",
     "status": "completed"
    },
    "tags": []
   },
   "outputs": [
    {
     "data": {
      "text/plain": [
       "Text(0.5, 1.0, 'Top 10 Products with High Profit')"
      ]
     },
     "execution_count": 17,
     "metadata": {},
     "output_type": "execute_result"
    },
    {
     "data": {
      "image/png": "[encoded data removed]",
      "text/plain": [
       "<Figure size 640x480 with 1 Axes>"
      ]
     },
     "metadata": {},
     "output_type": "display_data"
    }
   ],
   "source": [
    "sns.barplot(x='Profit',y='Product.Name',width=0.8,data=prod,orient='h')\n",
    "plt.ylabel(None)\n",
    "plt.yticks(fontsize=8)         \n",
    "plt.title('Top 10 Products with High Profit',fontsize=18)\n"
   ]
  },
  {
   "cell_type": "markdown",
   "id": "2a2ce979",
   "metadata": {
    "papermill": {
     "duration": 0.012678,
     "end_time": "2024-10-09T08:14:32.099622",
     "exception": false,
     "start_time": "2024-10-09T08:14:32.086944",
     "status": "completed"
    },
    "tags": []
   },
   "source": [
    ">-----------------"
   ]
  },
  {
   "cell_type": "markdown",
   "id": "08139b05",
   "metadata": {
    "papermill": {
     "duration": 0.012267,
     "end_time": "2024-10-09T08:14:32.124817",
     "exception": false,
     "start_time": "2024-10-09T08:14:32.112550",
     "status": "completed"
    },
    "tags": []
   },
   "source": [
    "># CONCLUSION"
   ]
  },
  {
   "cell_type": "markdown",
   "id": "e0703377",
   "metadata": {
    "papermill": {
     "duration": 0.012361,
     "end_time": "2024-10-09T08:14:32.149971",
     "exception": false,
     "start_time": "2024-10-09T08:14:32.137610",
     "status": "completed"
    },
    "tags": []
   },
   "source": [
    "The Global Superstore Dataset provides a comprehensive overview of sales, profits, and customer data across various regions and product categories. Analyzing this dataset can help identify key trends, optimize inventory, and improve customer satisfaction. It is a valuable resource for data-driven decision-making in retail management."
   ]
  },
  {
   "cell_type": "markdown",
   "id": "79347010",
   "metadata": {
    "papermill": {
     "duration": 0.012607,
     "end_time": "2024-10-09T08:14:32.175239",
     "exception": false,
     "start_time": "2024-10-09T08:14:32.162632",
     "status": "completed"
    },
    "tags": []
   },
   "source": [
    "-------------------"
   ]
  }
 ],
 "metadata": {
  "kaggle": {
   "accelerator": "none",
   "dataSources": [
    {
     "datasetId": 4011866,
     "sourceId": 6981070,
     "sourceType": "datasetVersion"
    }
   ],
   "dockerImageVersionId": 30746,
   "isGpuEnabled": false,
   "isInternetEnabled": true,
   "language": "python",
   "sourceType": "notebook"
  },
  "kernelspec": {
   "display_name": "Python 3 (ipykernel)",
   "language": "python",
   "name": "python3"
  },
  "language_info": {
   "codemirror_mode": {
    "name": "ipython",
    "version": 3
   },
   "file_extension": ".py",
   "mimetype": "text/x-python",
   "name": "python",
   "nbconvert_exporter": "python",
   "pygments_lexer": "ipython3",
   "version": "3.12.2"
  },
  "papermill": {
   "default_parameters": {},
   "duration": 10.400072,
   "end_time": "2024-10-09T08:14:32.810384",
   "environment_variables": {},
   "exception": null,
   "input_path": "__notebook__.ipynb",
   "output_path": "__notebook__.ipynb",
   "parameters": {},
   "start_time": "2024-10-09T08:14:22.410312",
   "version": "2.5.0"
  }
 },
 "nbformat": 4,
 "nbformat_minor": 5
}
